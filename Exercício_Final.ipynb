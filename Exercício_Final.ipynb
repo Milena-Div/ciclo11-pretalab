{
  "nbformat": 4,
  "nbformat_minor": 0,
  "metadata": {
    "colab": {
      "provenance": [],
      "include_colab_link": true
    },
    "kernelspec": {
      "name": "python3",
      "display_name": "Python 3"
    },
    "language_info": {
      "name": "python"
    }
  },
  "cells": [
    {
      "cell_type": "markdown",
      "metadata": {
        "id": "view-in-github",
        "colab_type": "text"
      },
      "source": [
        "<a href=\"https://colab.research.google.com/github/Milena-Div/ciclo11-pretalab/blob/main/Exerc%C3%ADcio_Final.ipynb\" target=\"_parent\"><img src=\"https://colab.research.google.com/assets/colab-badge.svg\" alt=\"Open In Colab\"/></a>"
      ]
    },
    {
      "cell_type": "markdown",
      "source": [
        "# Contagem de Medalhas\n",
        "\n",
        "Crie um programa que receba o número de medalhas de ouro, prata e bronze de um país nas Olimpíadas e calcule o total de medalhas.\n",
        "Quando escrever 'sair', o programa deverá encerrar e mostrar na tela o ranking de medalhas no formato:"
      ],
      "metadata": {
        "id": "RQN1e5FZY6SZ"
      }
    },
    {
      "cell_type": "code",
      "source": [
        "#Ranking de medalhas:\n",
        "#Brasil: 7 medalhas\n",
        "#França: 6 medalhas\n",
        "#Argentina: 3 medalhas"
      ],
      "metadata": {
        "id": "gCq_KLHzZSzb"
      },
      "execution_count": 1,
      "outputs": []
    },
    {
      "cell_type": "code",
      "execution_count": null,
      "metadata": {
        "id": "AJJhjxiPTd5s"
      },
      "outputs": [],
      "source": [
        "# Resposta aqui"
      ]
    },
    {
      "cell_type": "code",
      "source": [
        "def obter_medalhas():\n",
        "    medalhas = {}\n",
        "\n",
        "    while True:\n",
        "        pais = input(\"Digite o nome do país (ou 'sair' para encerrar): \")\n",
        "\n",
        "        if pais.lower() == 'sair':\n",
        "            break\n",
        "\n",
        "        medalhas_ouro = int(input(\"Digite o número de medalhas de ouro: \"))\n",
        "        medalhas_prata = int(input(\"Digite o número de medalhas de prata: \"))\n",
        "        medalhas_bronze = int(input(\"Digite o número de medalhas de bronze: \"))\n",
        "\n",
        "        total_medalhas = medalhas_ouro + medalhas_prata + medalhas_bronze\n",
        "\n",
        "        medalhas[pais] = total_medalhas\n",
        "\n",
        "    return medalhas\n",
        "\n",
        "def exibir_ranking(medalhas):\n",
        "\n",
        "    ranking = sorted(medalhas.items(), key=lambda item: item[1], reverse=True)\n",
        "\n",
        "    print(\"\\nRanking de Medalhas:\")\n",
        "    for i, (pais, total) in enumerate(ranking, 1):\n",
        "        print(f\"{i}. {pais}: {total} medalhas\")\n",
        "7\n",
        "resultado = obter_medalhas()\n",
        "exibir_ranking(resultado)\n"
      ],
      "metadata": {
        "id": "D6PB8wE0uRv-",
        "outputId": "725c9eb9-e85d-4f82-d220-8e51008a66eb",
        "colab": {
          "base_uri": "https://localhost:8080/"
        }
      },
      "execution_count": 47,
      "outputs": [
        {
          "output_type": "stream",
          "name": "stdout",
          "text": [
            "Digite o nome do país (ou 'sair' para encerrar): coreia\n",
            "Digite o número de medalhas de ouro: 5\n",
            "Digite o número de medalhas de prata: 7\n",
            "Digite o número de medalhas de bronze: 9\n",
            "Digite o nome do país (ou 'sair' para encerrar): brasil\n",
            "Digite o número de medalhas de ouro: 5\n",
            "Digite o número de medalhas de prata: 8\n",
            "Digite o número de medalhas de bronze: 2\n",
            "Digite o nome do país (ou 'sair' para encerrar): sair\n",
            "\n",
            "Ranking de Medalhas:\n",
            "1. coreia: 21 medalhas\n",
            "2. brasil: 15 medalhas\n"
          ]
        }
      ]
    }
  ]
}